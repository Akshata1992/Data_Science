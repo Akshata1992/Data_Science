{
  "nbformat": 4,
  "nbformat_minor": 0,
  "metadata": {
    "colab": {
      "name": "TopicModeling_SemanticAnalysis.ipynb",
      "provenance": [],
      "authorship_tag": "ABX9TyPRKp5/ph5ppLLjNbn4X9+a",
      "include_colab_link": true
    },
    "kernelspec": {
      "name": "python3",
      "display_name": "Python 3"
    },
    "accelerator": "GPU"
  },
  "cells": [
    {
      "cell_type": "markdown",
      "metadata": {
        "id": "view-in-github",
        "colab_type": "text"
      },
      "source": [
        "<a href=\"https://colab.research.google.com/github/Akshata1992/Machine_Learning/blob/master/TopicModeling_SemanticAnalysis.ipynb\" target=\"_parent\"><img src=\"https://colab.research.google.com/assets/colab-badge.svg\" alt=\"Open In Colab\"/></a>"
      ]
    },
    {
      "cell_type": "code",
      "metadata": {
        "id": "XS83VtQNyccU"
      },
      "source": [
        "#import all neccessary libraries\n",
        "import numpy as np\n",
        "import pandas as pd\n",
        "import seaborn as sns\n",
        "import matplotlib.pyplot as plt"
      ],
      "execution_count": 1,
      "outputs": []
    },
    {
      "cell_type": "code",
      "metadata": {
        "id": "fpJlVXFYeb4N"
      },
      "source": [
        "from sklearn.datasets import fetch_20newsgroups"
      ],
      "execution_count": 2,
      "outputs": []
    },
    {
      "cell_type": "code",
      "metadata": {
        "id": "rj-ZU5Bkeb9o",
        "outputId": "7ad5610f-cc0d-470f-fc70-8aa66d3a4fc6",
        "colab": {
          "base_uri": "https://localhost:8080/",
          "height": 68
        }
      },
      "source": [
        "dataset = fetch_20newsgroups(shuffle=True,random_state=42,remove=('headers','footers','quotes'))\n",
        "documents = dataset.data\n",
        "len(documents)"
      ],
      "execution_count": 3,
      "outputs": [
        {
          "output_type": "stream",
          "text": [
            "Downloading 20news dataset. This may take a few minutes.\n",
            "Downloading dataset from https://ndownloader.figshare.com/files/5975967 (14 MB)\n"
          ],
          "name": "stderr"
        },
        {
          "output_type": "execute_result",
          "data": {
            "text/plain": [
              "11314"
            ]
          },
          "metadata": {
            "tags": []
          },
          "execution_count": 3
        }
      ]
    },
    {
      "cell_type": "code",
      "metadata": {
        "id": "ohXBcRbYecDJ",
        "outputId": "8100991d-3b6c-40db-ae8b-a6e39edbd36d",
        "colab": {
          "base_uri": "https://localhost:8080/",
          "height": 357
        }
      },
      "source": [
        "dataset.target_names"
      ],
      "execution_count": 4,
      "outputs": [
        {
          "output_type": "execute_result",
          "data": {
            "text/plain": [
              "['alt.atheism',\n",
              " 'comp.graphics',\n",
              " 'comp.os.ms-windows.misc',\n",
              " 'comp.sys.ibm.pc.hardware',\n",
              " 'comp.sys.mac.hardware',\n",
              " 'comp.windows.x',\n",
              " 'misc.forsale',\n",
              " 'rec.autos',\n",
              " 'rec.motorcycles',\n",
              " 'rec.sport.baseball',\n",
              " 'rec.sport.hockey',\n",
              " 'sci.crypt',\n",
              " 'sci.electronics',\n",
              " 'sci.med',\n",
              " 'sci.space',\n",
              " 'soc.religion.christian',\n",
              " 'talk.politics.guns',\n",
              " 'talk.politics.mideast',\n",
              " 'talk.politics.misc',\n",
              " 'talk.religion.misc']"
            ]
          },
          "metadata": {
            "tags": []
          },
          "execution_count": 4
        }
      ]
    },
    {
      "cell_type": "code",
      "metadata": {
        "id": "mXQUDh5aeb89",
        "outputId": "970a3622-3785-4d0c-b7e3-d38655e4fffb",
        "colab": {
          "base_uri": "https://localhost:8080/",
          "height": 204
        }
      },
      "source": [
        "#data preprocessing\n",
        "new_df = pd.DataFrame({'document':documents})\n",
        "\n",
        "#remove all special characters except hashtag and characters\n",
        "new_df['clean_doc'] = new_df['document'].str.replace('[^a-zA-Z^]',' ')\n",
        "new_df.head()"
      ],
      "execution_count": 5,
      "outputs": [
        {
          "output_type": "execute_result",
          "data": {
            "text/html": [
              "<div>\n",
              "<style scoped>\n",
              "    .dataframe tbody tr th:only-of-type {\n",
              "        vertical-align: middle;\n",
              "    }\n",
              "\n",
              "    .dataframe tbody tr th {\n",
              "        vertical-align: top;\n",
              "    }\n",
              "\n",
              "    .dataframe thead th {\n",
              "        text-align: right;\n",
              "    }\n",
              "</style>\n",
              "<table border=\"1\" class=\"dataframe\">\n",
              "  <thead>\n",
              "    <tr style=\"text-align: right;\">\n",
              "      <th></th>\n",
              "      <th>document</th>\n",
              "      <th>clean_doc</th>\n",
              "    </tr>\n",
              "  </thead>\n",
              "  <tbody>\n",
              "    <tr>\n",
              "      <th>0</th>\n",
              "      <td>I was wondering if anyone out there could enli...</td>\n",
              "      <td>I was wondering if anyone out there could enli...</td>\n",
              "    </tr>\n",
              "    <tr>\n",
              "      <th>1</th>\n",
              "      <td>A fair number of brave souls who upgraded thei...</td>\n",
              "      <td>A fair number of brave souls who upgraded thei...</td>\n",
              "    </tr>\n",
              "    <tr>\n",
              "      <th>2</th>\n",
              "      <td>well folks, my mac plus finally gave up the gh...</td>\n",
              "      <td>well folks  my mac plus finally gave up the gh...</td>\n",
              "    </tr>\n",
              "    <tr>\n",
              "      <th>3</th>\n",
              "      <td>\\nDo you have Weitek's address/phone number?  ...</td>\n",
              "      <td>Do you have Weitek s address phone number   I...</td>\n",
              "    </tr>\n",
              "    <tr>\n",
              "      <th>4</th>\n",
              "      <td>From article &lt;C5owCB.n3p@world.std.com&gt;, by to...</td>\n",
              "      <td>From article  C owCB n p world std com   by to...</td>\n",
              "    </tr>\n",
              "  </tbody>\n",
              "</table>\n",
              "</div>"
            ],
            "text/plain": [
              "                                            document                                          clean_doc\n",
              "0  I was wondering if anyone out there could enli...  I was wondering if anyone out there could enli...\n",
              "1  A fair number of brave souls who upgraded thei...  A fair number of brave souls who upgraded thei...\n",
              "2  well folks, my mac plus finally gave up the gh...  well folks  my mac plus finally gave up the gh...\n",
              "3  \\nDo you have Weitek's address/phone number?  ...   Do you have Weitek s address phone number   I...\n",
              "4  From article <C5owCB.n3p@world.std.com>, by to...  From article  C owCB n p world std com   by to..."
            ]
          },
          "metadata": {
            "tags": []
          },
          "execution_count": 5
        }
      ]
    },
    {
      "cell_type": "code",
      "metadata": {
        "id": "mYE4Y0RFeb23",
        "outputId": "22d6c82c-cf59-4e21-a2e0-98dfd017d4ff",
        "colab": {
          "base_uri": "https://localhost:8080/",
          "height": 204
        }
      },
      "source": [
        "#removing short words\n",
        "new_df['clean_doc'] = new_df['clean_doc'].apply(lambda x: ' '.join([w for w in x.split() if len(w) > 3]))\n",
        "new_df.head()"
      ],
      "execution_count": 6,
      "outputs": [
        {
          "output_type": "execute_result",
          "data": {
            "text/html": [
              "<div>\n",
              "<style scoped>\n",
              "    .dataframe tbody tr th:only-of-type {\n",
              "        vertical-align: middle;\n",
              "    }\n",
              "\n",
              "    .dataframe tbody tr th {\n",
              "        vertical-align: top;\n",
              "    }\n",
              "\n",
              "    .dataframe thead th {\n",
              "        text-align: right;\n",
              "    }\n",
              "</style>\n",
              "<table border=\"1\" class=\"dataframe\">\n",
              "  <thead>\n",
              "    <tr style=\"text-align: right;\">\n",
              "      <th></th>\n",
              "      <th>document</th>\n",
              "      <th>clean_doc</th>\n",
              "    </tr>\n",
              "  </thead>\n",
              "  <tbody>\n",
              "    <tr>\n",
              "      <th>0</th>\n",
              "      <td>I was wondering if anyone out there could enli...</td>\n",
              "      <td>wondering anyone there could enlighten this ot...</td>\n",
              "    </tr>\n",
              "    <tr>\n",
              "      <th>1</th>\n",
              "      <td>A fair number of brave souls who upgraded thei...</td>\n",
              "      <td>fair number brave souls upgraded their clock o...</td>\n",
              "    </tr>\n",
              "    <tr>\n",
              "      <th>2</th>\n",
              "      <td>well folks, my mac plus finally gave up the gh...</td>\n",
              "      <td>well folks plus finally gave ghost this weeken...</td>\n",
              "    </tr>\n",
              "    <tr>\n",
              "      <th>3</th>\n",
              "      <td>\\nDo you have Weitek's address/phone number?  ...</td>\n",
              "      <td>have Weitek address phone number like some inf...</td>\n",
              "    </tr>\n",
              "    <tr>\n",
              "      <th>4</th>\n",
              "      <td>From article &lt;C5owCB.n3p@world.std.com&gt;, by to...</td>\n",
              "      <td>From article owCB world tombaker world Baker u...</td>\n",
              "    </tr>\n",
              "  </tbody>\n",
              "</table>\n",
              "</div>"
            ],
            "text/plain": [
              "                                            document                                          clean_doc\n",
              "0  I was wondering if anyone out there could enli...  wondering anyone there could enlighten this ot...\n",
              "1  A fair number of brave souls who upgraded thei...  fair number brave souls upgraded their clock o...\n",
              "2  well folks, my mac plus finally gave up the gh...  well folks plus finally gave ghost this weeken...\n",
              "3  \\nDo you have Weitek's address/phone number?  ...  have Weitek address phone number like some inf...\n",
              "4  From article <C5owCB.n3p@world.std.com>, by to...  From article owCB world tombaker world Baker u..."
            ]
          },
          "metadata": {
            "tags": []
          },
          "execution_count": 6
        }
      ]
    },
    {
      "cell_type": "code",
      "metadata": {
        "id": "t3EINNOYj1g7",
        "outputId": "0c61c450-9053-4fe9-9aa1-8d6ceb92b873",
        "colab": {
          "base_uri": "https://localhost:8080/",
          "height": 204
        }
      },
      "source": [
        "#make all text lowercase\n",
        "new_df['clean_doc'] = new_df['clean_doc'].apply(lambda x:x.lower())\n",
        "new_df.head()"
      ],
      "execution_count": 7,
      "outputs": [
        {
          "output_type": "execute_result",
          "data": {
            "text/html": [
              "<div>\n",
              "<style scoped>\n",
              "    .dataframe tbody tr th:only-of-type {\n",
              "        vertical-align: middle;\n",
              "    }\n",
              "\n",
              "    .dataframe tbody tr th {\n",
              "        vertical-align: top;\n",
              "    }\n",
              "\n",
              "    .dataframe thead th {\n",
              "        text-align: right;\n",
              "    }\n",
              "</style>\n",
              "<table border=\"1\" class=\"dataframe\">\n",
              "  <thead>\n",
              "    <tr style=\"text-align: right;\">\n",
              "      <th></th>\n",
              "      <th>document</th>\n",
              "      <th>clean_doc</th>\n",
              "    </tr>\n",
              "  </thead>\n",
              "  <tbody>\n",
              "    <tr>\n",
              "      <th>0</th>\n",
              "      <td>I was wondering if anyone out there could enli...</td>\n",
              "      <td>wondering anyone there could enlighten this ot...</td>\n",
              "    </tr>\n",
              "    <tr>\n",
              "      <th>1</th>\n",
              "      <td>A fair number of brave souls who upgraded thei...</td>\n",
              "      <td>fair number brave souls upgraded their clock o...</td>\n",
              "    </tr>\n",
              "    <tr>\n",
              "      <th>2</th>\n",
              "      <td>well folks, my mac plus finally gave up the gh...</td>\n",
              "      <td>well folks plus finally gave ghost this weeken...</td>\n",
              "    </tr>\n",
              "    <tr>\n",
              "      <th>3</th>\n",
              "      <td>\\nDo you have Weitek's address/phone number?  ...</td>\n",
              "      <td>have weitek address phone number like some inf...</td>\n",
              "    </tr>\n",
              "    <tr>\n",
              "      <th>4</th>\n",
              "      <td>From article &lt;C5owCB.n3p@world.std.com&gt;, by to...</td>\n",
              "      <td>from article owcb world tombaker world baker u...</td>\n",
              "    </tr>\n",
              "  </tbody>\n",
              "</table>\n",
              "</div>"
            ],
            "text/plain": [
              "                                            document                                          clean_doc\n",
              "0  I was wondering if anyone out there could enli...  wondering anyone there could enlighten this ot...\n",
              "1  A fair number of brave souls who upgraded thei...  fair number brave souls upgraded their clock o...\n",
              "2  well folks, my mac plus finally gave up the gh...  well folks plus finally gave ghost this weeken...\n",
              "3  \\nDo you have Weitek's address/phone number?  ...  have weitek address phone number like some inf...\n",
              "4  From article <C5owCB.n3p@world.std.com>, by to...  from article owcb world tombaker world baker u..."
            ]
          },
          "metadata": {
            "tags": []
          },
          "execution_count": 7
        }
      ]
    },
    {
      "cell_type": "code",
      "metadata": {
        "id": "E1LpwUx9j1m3",
        "outputId": "c5f4ac2d-cbeb-45df-eb38-9facc24122f9",
        "colab": {
          "base_uri": "https://localhost:8080/",
          "height": 51
        }
      },
      "source": [
        "#import stop words from nltk library\n",
        "import nltk\n",
        "from nltk.corpus import stopwords\n",
        "nltk.download('stopwords')\n",
        "stop_words = stopwords.words('english')"
      ],
      "execution_count": 8,
      "outputs": [
        {
          "output_type": "stream",
          "text": [
            "[nltk_data] Downloading package stopwords to /root/nltk_data...\n",
            "[nltk_data]   Unzipping corpora/stopwords.zip.\n"
          ],
          "name": "stdout"
        }
      ]
    },
    {
      "cell_type": "code",
      "metadata": {
        "id": "Wty5bYCzj1sH",
        "outputId": "0e3c7935-5c6f-41a8-b93f-5d00e59d4386",
        "colab": {
          "base_uri": "https://localhost:8080/",
          "height": 119
        }
      },
      "source": [
        "#tokenization\n",
        "tokenized_words = new_df['clean_doc'].apply(lambda x:x.split())\n",
        "tokenized_words.head()"
      ],
      "execution_count": 9,
      "outputs": [
        {
          "output_type": "execute_result",
          "data": {
            "text/plain": [
              "0    [wondering, anyone, there, could, enlighten, t...\n",
              "1    [fair, number, brave, souls, upgraded, their, ...\n",
              "2    [well, folks, plus, finally, gave, ghost, this...\n",
              "3    [have, weitek, address, phone, number, like, s...\n",
              "4    [from, article, owcb, world, tombaker, world, ...\n",
              "Name: clean_doc, dtype: object"
            ]
          },
          "metadata": {
            "tags": []
          },
          "execution_count": 9
        }
      ]
    },
    {
      "cell_type": "code",
      "metadata": {
        "id": "o9q2FwWZj1l6",
        "outputId": "6f61c8ce-3c34-48b1-8e55-2eaf9cdd2828",
        "colab": {
          "base_uri": "https://localhost:8080/",
          "height": 119
        }
      },
      "source": [
        "#remove the stop words\n",
        "tokenized_words = tokenized_words.apply(lambda x:[i for i in x if i not in stop_words])\n",
        "tokenized_words.head()"
      ],
      "execution_count": 10,
      "outputs": [
        {
          "output_type": "execute_result",
          "data": {
            "text/plain": [
              "0    [wondering, anyone, could, enlighten, door, sp...\n",
              "1    [fair, number, brave, souls, upgraded, clock, ...\n",
              "2    [well, folks, plus, finally, gave, ghost, week...\n",
              "3    [weitek, address, phone, number, like, informa...\n",
              "4    [article, owcb, world, tombaker, world, baker,...\n",
              "Name: clean_doc, dtype: object"
            ]
          },
          "metadata": {
            "tags": []
          },
          "execution_count": 10
        }
      ]
    },
    {
      "cell_type": "code",
      "metadata": {
        "id": "_ioBnxM9j1fs",
        "outputId": "eda7e68b-915d-4436-b5be-d878eaa51761",
        "colab": {
          "base_uri": "https://localhost:8080/",
          "height": 204
        }
      },
      "source": [
        "#detokenization\n",
        "de_tokenized_doc = []\n",
        "for i in range(len(tokenized_words)):\n",
        "  t = ' '.join(tokenized_words[i])\n",
        "  de_tokenized_doc.append(t)\n",
        "\n",
        "new_df['clean_doc'] = de_tokenized_doc\n",
        "new_df.head()"
      ],
      "execution_count": 11,
      "outputs": [
        {
          "output_type": "execute_result",
          "data": {
            "text/html": [
              "<div>\n",
              "<style scoped>\n",
              "    .dataframe tbody tr th:only-of-type {\n",
              "        vertical-align: middle;\n",
              "    }\n",
              "\n",
              "    .dataframe tbody tr th {\n",
              "        vertical-align: top;\n",
              "    }\n",
              "\n",
              "    .dataframe thead th {\n",
              "        text-align: right;\n",
              "    }\n",
              "</style>\n",
              "<table border=\"1\" class=\"dataframe\">\n",
              "  <thead>\n",
              "    <tr style=\"text-align: right;\">\n",
              "      <th></th>\n",
              "      <th>document</th>\n",
              "      <th>clean_doc</th>\n",
              "    </tr>\n",
              "  </thead>\n",
              "  <tbody>\n",
              "    <tr>\n",
              "      <th>0</th>\n",
              "      <td>I was wondering if anyone out there could enli...</td>\n",
              "      <td>wondering anyone could enlighten door sports l...</td>\n",
              "    </tr>\n",
              "    <tr>\n",
              "      <th>1</th>\n",
              "      <td>A fair number of brave souls who upgraded thei...</td>\n",
              "      <td>fair number brave souls upgraded clock oscilla...</td>\n",
              "    </tr>\n",
              "    <tr>\n",
              "      <th>2</th>\n",
              "      <td>well folks, my mac plus finally gave up the gh...</td>\n",
              "      <td>well folks plus finally gave ghost weekend sta...</td>\n",
              "    </tr>\n",
              "    <tr>\n",
              "      <th>3</th>\n",
              "      <td>\\nDo you have Weitek's address/phone number?  ...</td>\n",
              "      <td>weitek address phone number like information chip</td>\n",
              "    </tr>\n",
              "    <tr>\n",
              "      <th>4</th>\n",
              "      <td>From article &lt;C5owCB.n3p@world.std.com&gt;, by to...</td>\n",
              "      <td>article owcb world tombaker world baker unders...</td>\n",
              "    </tr>\n",
              "  </tbody>\n",
              "</table>\n",
              "</div>"
            ],
            "text/plain": [
              "                                            document                                          clean_doc\n",
              "0  I was wondering if anyone out there could enli...  wondering anyone could enlighten door sports l...\n",
              "1  A fair number of brave souls who upgraded thei...  fair number brave souls upgraded clock oscilla...\n",
              "2  well folks, my mac plus finally gave up the gh...  well folks plus finally gave ghost weekend sta...\n",
              "3  \\nDo you have Weitek's address/phone number?  ...  weitek address phone number like information chip\n",
              "4  From article <C5owCB.n3p@world.std.com>, by to...  article owcb world tombaker world baker unders..."
            ]
          },
          "metadata": {
            "tags": []
          },
          "execution_count": 11
        }
      ]
    },
    {
      "cell_type": "code",
      "metadata": {
        "id": "I-jEYv8IuY0F",
        "outputId": "a0ce70eb-47fa-4007-d7a2-e674c3f7fe1c",
        "colab": {
          "base_uri": "https://localhost:8080/",
          "height": 34
        }
      },
      "source": [
        "#convert the words inot vector\n",
        "from sklearn.feature_extraction.text import TfidfVectorizer\n",
        "\n",
        "vectorizer = TfidfVectorizer(stop_words = 'english',max_features=5000,max_df=0.5,smooth_idf=True)\n",
        "X = vectorizer.fit_transform(new_df['clean_doc'])\n",
        "X.shape"
      ],
      "execution_count": 12,
      "outputs": [
        {
          "output_type": "execute_result",
          "data": {
            "text/plain": [
              "(11314, 5000)"
            ]
          },
          "metadata": {
            "tags": []
          },
          "execution_count": 12
        }
      ]
    },
    {
      "cell_type": "code",
      "metadata": {
        "id": "KtQMUCPfy3Xg",
        "outputId": "5382a4d6-8be7-4d12-f70d-1ffd5077a12d",
        "colab": {
          "base_uri": "https://localhost:8080/",
          "height": 34
        }
      },
      "source": [
        "#lets define SVD to on every document of the dataset\n",
        "from sklearn.decomposition import TruncatedSVD\n",
        "\n",
        "#SVD represents documents and terms in vectors\n",
        "svd_model = TruncatedSVD(n_components=20,algorithm='randomized',n_iter=100,random_state=122)\n",
        "svd_model.fit(X)\n",
        "\n",
        "len(svd_model.components_)"
      ],
      "execution_count": 13,
      "outputs": [
        {
          "output_type": "execute_result",
          "data": {
            "text/plain": [
              "20"
            ]
          },
          "metadata": {
            "tags": []
          },
          "execution_count": 13
        }
      ]
    },
    {
      "cell_type": "code",
      "metadata": {
        "id": "3b9wZK7Zy3hy",
        "outputId": "4edd7d2b-d3bd-4e21-ae64-b8e7fb91d061",
        "colab": {
          "base_uri": "https://localhost:8080/",
          "height": 1000
        }
      },
      "source": [
        "terms = vectorizer.get_feature_names()\n",
        "\n",
        "for i,comp in enumerate(svd_model.components_):\n",
        "  terms_comp = zip(terms,comp)\n",
        "  sorted_terms = sorted(terms_comp,key=lambda x:x[1], reverse=True)[:7]\n",
        "  print(\"Topic \"+str(i)+\": \")\n",
        "  for t in sorted_terms:\n",
        "    print(t[0])\n",
        "    print(\" \")"
      ],
      "execution_count": 14,
      "outputs": [
        {
          "output_type": "stream",
          "text": [
            "Topic0: \n",
            "like\n",
            " \n",
            "know\n",
            " \n",
            "people\n",
            " \n",
            "think\n",
            " \n",
            "good\n",
            " \n",
            "time\n",
            " \n",
            "thanks\n",
            " \n",
            "Topic1: \n",
            "thanks\n",
            " \n",
            "windows\n",
            " \n",
            "card\n",
            " \n",
            "drive\n",
            " \n",
            "mail\n",
            " \n",
            "file\n",
            " \n",
            "advance\n",
            " \n",
            "Topic2: \n",
            "drive\n",
            " \n",
            "scsi\n",
            " \n",
            "drives\n",
            " \n",
            "hard\n",
            " \n",
            "disk\n",
            " \n",
            "controller\n",
            " \n",
            "card\n",
            " \n",
            "Topic3: \n",
            "pitt\n",
            " \n",
            "cadre\n",
            " \n",
            "gordon\n",
            " \n",
            "chastity\n",
            " \n",
            "shameful\n",
            " \n",
            "intellect\n",
            " \n",
            "skepticism\n",
            " \n",
            "Topic4: \n",
            "drive\n",
            " \n",
            "cadre\n",
            " \n",
            "chastity\n",
            " \n",
            "shameful\n",
            " \n",
            "skepticism\n",
            " \n",
            "gordon\n",
            " \n",
            "intellect\n",
            " \n",
            "Topic5: \n",
            "thanks\n",
            " \n",
            "mail\n",
            " \n",
            "know\n",
            " \n",
            "drive\n",
            " \n",
            "advance\n",
            " \n",
            "email\n",
            " \n",
            "address\n",
            " \n",
            "Topic6: \n",
            "chip\n",
            " \n",
            "encryption\n",
            " \n",
            "clipper\n",
            " \n",
            "government\n",
            " \n",
            "keys\n",
            " \n",
            "phone\n",
            " \n",
            "data\n",
            " \n",
            "Topic7: \n",
            "card\n",
            " \n",
            "video\n",
            " \n",
            "monitor\n",
            " \n",
            "drivers\n",
            " \n",
            "cards\n",
            " \n",
            "driver\n",
            " \n",
            "sale\n",
            " \n",
            "Topic8: \n",
            "know\n",
            " \n",
            "like\n",
            " \n",
            "chip\n",
            " \n",
            "thanks\n",
            " \n",
            "think\n",
            " \n",
            "bike\n",
            " \n",
            "clipper\n",
            " \n",
            "Topic9: \n",
            "like\n",
            " \n",
            "bike\n",
            " \n",
            "good\n",
            " \n",
            "sale\n",
            " \n",
            "window\n",
            " \n",
            "offer\n",
            " \n",
            "space\n",
            " \n",
            "Topic10: \n",
            "israel\n",
            " \n",
            "armenian\n",
            " \n",
            "armenians\n",
            " \n",
            "israeli\n",
            " \n",
            "turkish\n",
            " \n",
            "people\n",
            " \n",
            "like\n",
            " \n",
            "Topic11: \n",
            "window\n",
            " \n",
            "problem\n",
            " \n",
            "space\n",
            " \n",
            "display\n",
            " \n",
            "time\n",
            " \n",
            "server\n",
            " \n",
            "card\n",
            " \n",
            "Topic12: \n",
            "space\n",
            " \n",
            "know\n",
            " \n",
            "nasa\n",
            " \n",
            "card\n",
            " \n",
            "file\n",
            " \n",
            "files\n",
            " \n",
            "shuttle\n",
            " \n",
            "Topic13: \n",
            "like\n",
            " \n",
            "know\n",
            " \n",
            "israel\n",
            " \n",
            "game\n",
            " \n",
            "file\n",
            " \n",
            "jews\n",
            " \n",
            "jesus\n",
            " \n",
            "Topic14: \n",
            "know\n",
            " \n",
            "good\n",
            " \n",
            "bike\n",
            " \n",
            "file\n",
            " \n",
            "sale\n",
            " \n",
            "israel\n",
            " \n",
            "jesus\n",
            " \n",
            "Topic15: \n",
            "know\n",
            " \n",
            "window\n",
            " \n",
            "think\n",
            " \n",
            "people\n",
            " \n",
            "sale\n",
            " \n",
            "mail\n",
            " \n",
            "list\n",
            " \n",
            "Topic16: \n",
            "think\n",
            " \n",
            "israel\n",
            " \n",
            "file\n",
            " \n",
            "israeli\n",
            " \n",
            "files\n",
            " \n",
            "need\n",
            " \n",
            "jews\n",
            " \n",
            "Topic17: \n",
            "file\n",
            " \n",
            "people\n",
            " \n",
            "files\n",
            " \n",
            "card\n",
            " \n",
            "armenian\n",
            " \n",
            "problem\n",
            " \n",
            "armenians\n",
            " \n",
            "Topic18: \n",
            "problem\n",
            " \n",
            "mail\n",
            " \n",
            "address\n",
            " \n",
            "send\n",
            " \n",
            "windows\n",
            " \n",
            "list\n",
            " \n",
            "time\n",
            " \n",
            "Topic19: \n",
            "scsi\n",
            " \n",
            "good\n",
            " \n",
            "mail\n",
            " \n",
            "list\n",
            " \n",
            "graphics\n",
            " \n",
            "address\n",
            " \n",
            "want\n",
            " \n"
          ],
          "name": "stdout"
        }
      ]
    },
    {
      "cell_type": "code",
      "metadata": {
        "id": "4QG9C24vy3o5",
        "outputId": "68858414-7e95-4a49-e1b1-70a60664cda3",
        "colab": {
          "base_uri": "https://localhost:8080/",
          "height": 320
        }
      },
      "source": [
        "#topic visualization\n",
        "import umap\n",
        "\n",
        "x_topics = svd_model.fit_transform(X)\n",
        "embedding = umap.UMAP(n_neighbors=150, min_dist=0.5, random_state=12).fit_transform(x_topics)\n",
        "\n",
        "plt.figure(figsize=(7,5))\n",
        "plt.scatter(embedding[:, 0], embedding[:, 1], \n",
        "c = dataset.target,\n",
        "s = 10, # size\n",
        "edgecolor='none'\n",
        ")\n",
        "plt.show()"
      ],
      "execution_count": 16,
      "outputs": [
        {
          "output_type": "display_data",
          "data": {
            "image/png": "[encoded data removed]",
            "text/plain": [
              "<Figure size 504x360 with 1 Axes>"
            ]
          },
          "metadata": {
            "tags": [],
            "needs_background": "light"
          }
        }
      ]
    },
    {
      "cell_type": "code",
      "metadata": {
        "id": "KvURMRxTy3g-"
      },
      "source": [
        ""
      ],
      "execution_count": 13,
      "outputs": []
    }
  ]
}